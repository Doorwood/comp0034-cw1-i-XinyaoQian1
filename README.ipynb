{
 "cells": [
  {
   "cell_type": "markdown",
   "metadata": {
    "collapsed": true,
    "pycharm": {
     "name": "#%% md\n"
    }
   },
   "source": [
    "## Info:\n",
    "Name: Xinyao Qian<br>\n",
    "Student id: 19021373<br>\n",
    "Github:<https://github.com/ucl-comp0035/comp0034-cw1-i-XinyaoQian1.git><br>\n",
    "\n",
    "\n",
    "\n",
    "\n",
    "Notice: the markdown is not working with pycharm 2022.3, the notebook is used as an alternative\n",
    "## Register:\n",
    "The register and login page can be switched by cilck the bottom button.\n",
    "\n",
    "The \"terms and conditions\" is empty by now.\n",
    "![](img/pages/register.jpg)\n",
    "\n",
    "## Login:\n",
    "code is adopted form https://github.com/LoginRadius/awesome-login-pages\n",
    "![](img/pages/login.jpg)\n",
    "\n",
    "## Home page:\n",
    "![](img/pages/homepage.jpg)\n",
    "## Error page(404):\n",
    "The navigation bar was kept for users to go back to home pages.\n",
    "![](img/pages/404.jpg)\n",
    "\n",
    "## Error page(403)\n",
    "For this app, there is no such situation a 403 page will be rendered. However, since the original aim of the web app contains multiple functionalities. For future development, the 403 page is included.\n",
    "\n",
    "## No access:\n",
    "Instead of a 403 page, the web app will redirect to the login page and flash a message:\n",
    "\n",
    "![](img/pages/no_access.jpg)\n",
    "\n",
    "\n",
    "## Blogs:\n",
    "![](img/pages/blog.jpg)\n",
    "\n",
    "## Blog content:\n",
    "The stars can be click to give a rating score.\n",
    "![](img/pages/content.jpg)\n",
    "\n",
    "## Dash app nav bar:\n",
    "For the web app, the navigation bar was changed such that the user can only go back to the home page.\n",
    "![](img/pages/dash_nav.jpg)\n",
    "\n",
    "## Dashboard\n",
    "![](img/pages/dashboard.jpg)\n",
    "## Navigation bar:\n",
    "![](img/pages/navbar.jpg)\n",
    "## Creat new blog:\n",
    "![](img/pages/new_blog.jpg)\n",
    "\n",
    "## User profile:\n",
    "For the company use, the development of user photos or bios are at low priority. Instead, the web page only shows the basic info of the current users. The page can be developed further.\n",
    "![](img/pages/profile.jpg)\n",
    "\n",
    "## Search example:\n",
    "The search blog will return the filtered blog.\n",
    "![](img/pages/search.jpg)"
   ]
  }
 ],
 "metadata": {
  "kernelspec": {
   "display_name": "Python 3 (ipykernel)",
   "language": "python",
   "name": "python3"
  },
  "language_info": {
   "codemirror_mode": {
    "name": "ipython",
    "version": 3
   },
   "file_extension": ".py",
   "mimetype": "text/x-python",
   "name": "python",
   "nbconvert_exporter": "python",
   "pygments_lexer": "ipython3",
   "version": "3.9.1"
  }
 },
 "nbformat": 4,
 "nbformat_minor": 1
}
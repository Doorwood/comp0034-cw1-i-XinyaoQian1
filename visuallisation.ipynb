{
 "cells": [
  {
   "cell_type": "markdown",
   "metadata": {
    "collapsed": true,
    "pycharm": {
     "name": "#%% md\n"
    }
   },
   "source": [
    "In the Dash app you will create a number of visualisations. Each visualisation will aim to answer one or more questions for a particular target audience. These will use data from your dataset.\n",
    "For this aspect, ‘design’ refers to the visual design of the visualisation and not the python (or other) code.\n",
    "For each chart, write a markdown file (e.g. comp0034_cw1.md or in the README.md) text to:\n",
    "1.\tState the target audience and the question that the visualisation is intended to address.\n",
    "2.\tExplain your design for each visualisation. You can do this before you code the visualisation.\n",
    "3.\tOptionally, a stronger response to this aspect will also evaluate the resulting visualisation with respect to its design. You will only be able to do this once you have created the visualisation in your dashboard.\n",
    "There is no word limit for the explanation. As a guide, 200 words per visualisation is likely to be sufficient to explain the design.\n",
    "\n"
   ]
  },
  {
   "cell_type": "markdown",
   "metadata": {
    "pycharm": {
     "name": "#%% md\n"
    }
   },
   "source": [
    "3.1.1\tGuidance for designing and explaining each visualisation\n",
    "You do not need to provide a sketch or representation of the design, you only need to explain how you designed the visualisation that you will subsequently code in your app. For each visualisation that you design consider:\n",
    "•\tThe target audience for this visualisation. Consider using the relevant persona (or other format) from COMP0035.\n",
    "•\tThe question that this visualisation is intended to answer. Use the questions you identified in COMP0035, or you can write new questions.\n",
    "•\tThe data needed from your data set to answer the question\n",
    "•\tThe type of chart (e.g. pie, bar etc) and its appropriateness for the question/audience. Use the resources given in the teaching materials.\n",
    "•\tThe visual aspects of the design (e.g. style, colours, titles). Use the literature and resources introduced in the teaching materials; or other relevant sources from your independent literature research.\n",
    "[Optional] Evaluate each visualisation. You will only be able to do this step once you have coded the application and can evaluate the chart.\n",
    "1.\tHow well does the visualisation you created meet with the design choices you made?\n",
    "2.\tWhat are the strengths and weaknesses of the design with respect to the target audience and the question you were intending to answer?\n",
    "3.\tIf relevant, suggest any ways in which your visualisation design could be improved."
   ]
  },
  {
   "cell_type": "markdown",
   "metadata": {
    "pycharm": {
     "name": "#%% md\n"
    }
   },
   "source": [
    "## visualisation templet\n",
    "Question to address：\n",
    "\n",
    "Target audience：The data analyst from the Seoul Bike company.\n",
    "\n",
    "Data needed:\n",
    "\n",
    "Type of chart and its appropriateness:\n",
    "\n",
    "The visual aspects of the design (e.g. style, colours, titles):\n",
    "\n",
    "Evaluation:\n",
    "1. How well does the visualisation you created meet with the design choices you made?\n",
    "\n",
    "2. What are the strengths and weaknesses of the design with respect to the target audience and the question you were intending to answer?\n",
    "\n",
    "3. If relevant, suggest any ways in which your visualisation design could be improved.\n"
   ]
  },
  {
   "cell_type": "markdown",
   "metadata": {
    "pycharm": {
     "name": "#%% md\n"
    }
   },
   "source": [
    "## visualisation 1\n",
    "Question to address：Which season had the highest total bike rent count?\n",
    "\n",
    "Target audience：\n",
    "\n",
    "Data needed:\n",
    "\n",
    "Type of chart and its appropriateness:\n",
    "\n",
    "The visual aspects of the design (e.g. style, colours, titles):\n",
    "\n",
    "Evaluation:\n",
    "1. How well does the visualisation you created meet with the design choices you made?\n",
    "\n",
    "2. What are the strengths and weaknesses of the design with respect to the target audience and the question you were intending to answer?\n",
    "\n",
    "3. If relevant, suggest any ways in which your visualisation design could be improved."
   ]
  },
  {
   "cell_type": "markdown",
   "metadata": {},
   "source": [
    "## visualisation 2\n",
    "Question to address： What is the relationship between average number of bikes rented per hour and the temperature?\n",
    "\n",
    "\n",
    "Target audience：\n",
    "\n",
    "Data needed:\n",
    "\n",
    "Type of chart and its appropriateness:\n",
    "\n",
    "The visual aspects of the design (e.g. style, colours, titles):\n",
    "\n",
    "Evaluation:\n",
    "1. How well does the visualisation you created meet with the design choices you made?\n",
    "\n",
    "2. What are the strengths and weaknesses of the design with respect to the target audience and the question you were intending to answer?\n",
    "\n",
    "3. If relevant, suggest any ways in which your visualisation design could be improved."
   ]
  },
  {
   "cell_type": "markdown",
   "metadata": {},
   "source": [
    "## visualisation 3\n",
    "Question to address：What is the distribution of number of bikes rented during day and night?\n",
    "\n",
    "Target audience：\n",
    "\n",
    "Data needed:\n",
    "\n",
    "Type of chart and its appropriateness:\n",
    "\n",
    "The visual aspects of the design (e.g. style, colours, titles):\n",
    "\n",
    "Evaluation:\n",
    "1. How well does the visualisation you created meet with the design choices you made?\n",
    "\n",
    "2. What are the strengths and weaknesses of the design with respect to the target audience and the question you were intending to answer?\n",
    "\n",
    "3. If relevant, suggest any ways in which your visualisation design could be improved."
   ]
  },
  {
   "cell_type": "markdown",
   "metadata": {},
   "source": [
    "## visualisation 4\n",
    "Question to address： What were the hours during which the rent were the highest?\n",
    "\n",
    "Target audience：\n",
    "\n",
    "Data needed:\n",
    "\n",
    "Type of chart and its appropriateness:\n",
    "\n",
    "The visual aspects of the design (e.g. style, colours, titles):\n",
    "\n",
    "Evaluation:\n",
    "1. How well does the visualisation you created meet with the design choices you made?\n",
    "\n",
    "2. What are the strengths and weaknesses of the design with respect to the target audience and the question you were intending to answer?\n",
    "\n",
    "3. If relevant, suggest any ways in which your visualisation design could be improved."
   ]
  },
  {
   "cell_type": "markdown",
   "source": [
    "## visualisation 5\n",
    "Question to address：What is the correlation between each two weather factors?\n",
    "\n",
    "Target audience：\n",
    "\n",
    "Data needed:\n",
    "\n",
    "Type of chart and its appropriateness:\n",
    "\n",
    "The visual aspects of the design (e.g. style, colours, titles):\n",
    "\n",
    "Evaluation:\n",
    "1. How well does the visualisation you created meet with the design choices you made?\n",
    "\n",
    "2. What are the strengths and weaknesses of the design with respect to the target audience and the question you were intending to answer?\n",
    "\n",
    "3. If relevant, suggest any ways in which your visualisation design could be improved.\n"
   ],
   "metadata": {
    "collapsed": false,
    "pycharm": {
     "name": "#%% md\n"
    }
   }
  },
  {
   "cell_type": "markdown",
   "metadata": {},
   "source": [
    "## visualisation 6\n",
    "Question to address：What is the relationship between average number of bikes rented per hour and the rainfall?\n",
    "\n",
    "Target audience：\n",
    "\n",
    "Data needed:\n",
    "\n",
    "Type of chart and its appropriateness:\n",
    "\n",
    "The visual aspects of the design (e.g. style, colours, titles):\n",
    "\n",
    "Evaluation:\n",
    "1. How well does the visualisation you created meet with the design choices you made?\n",
    "\n",
    "2. What are the strengths and weaknesses of the design with respect to the target audience and the question you were intending to answer?\n",
    "\n",
    "3. If relevant, suggest any ways in which your visualisation design could be improved.\n"
   ]
  }
 ],
 "metadata": {
  "kernelspec": {
   "display_name": "Python 3 (ipykernel)",
   "language": "python",
   "name": "python3"
  },
  "language_info": {
   "codemirror_mode": {
    "name": "ipython",
    "version": 3
   },
   "file_extension": ".py",
   "mimetype": "text/x-python",
   "name": "python",
   "nbconvert_exporter": "python",
   "pygments_lexer": "ipython3",
   "version": "3.9.1"
  }
 },
 "nbformat": 4,
 "nbformat_minor": 1
}
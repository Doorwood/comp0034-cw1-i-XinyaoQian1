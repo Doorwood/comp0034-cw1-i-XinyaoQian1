{
 "cells": [
  {
   "cell_type": "markdown",
   "metadata": {
    "collapsed": true,
    "pycharm": {
     "name": "#%% md\n"
    }
   },
   "source": [
    "In the Dash app you will create a number of visualisations. Each visualisation will aim to answer one or more questions for a particular target audience. These will use data from your dataset.\n",
    "For this aspect, ‘design’ refers to the visual design of the visualisation and not the python (or other) code.\n",
    "For each chart, write a markdown file (e.g. comp0034_cw1.md or in the README.md) text to:\n",
    "1.\tState the target audience and the question that the visualisation is intended to address.\n",
    "2.\tExplain your design for each visualisation. You can do this before you code the visualisation.\n",
    "3.\tOptionally, a stronger response to this aspect will also evaluate the resulting visualisation with respect to its design. You will only be able to do this once you have created the visualisation in your dashboard.\n",
    "There is no word limit for the explanation. As a guide, 200 words per visualisation is likely to be sufficient to explain the design.\n",
    "\n"
   ]
  },
  {
   "cell_type": "markdown",
   "metadata": {
    "pycharm": {
     "name": "#%% md\n"
    }
   },
   "source": [
    "3.1.1\tGuidance for designing and explaining each visualisation\n",
    "You do not need to provide a sketch or representation of the design, you only need to explain how you designed the visualisation that you will subsequently code in your app. For each visualisation that you design consider:\n",
    "•\tThe target audience for this visualisation. Consider using the relevant persona (or other format) from COMP0035.\n",
    "•\tThe question that this visualisation is intended to answer. Use the questions you identified in COMP0035, or you can write new questions.\n",
    "•\tThe data needed from your data set to answer the question\n",
    "•\tThe type of chart (e.g. pie, bar etc) and its appropriateness for the question/audience. Use the resources given in the teaching materials.\n",
    "•\tThe visual aspects of the design (e.g. style, colours, titles). Use the literature and resources introduced in the teaching materials; or other relevant sources from your independent literature research.\n",
    "[Optional] Evaluate each visualisation. You will only be able to do this step once you have coded the application and can evaluate the chart.\n",
    "1.\tHow well does the visualisation you created meet with the design choices you made?\n",
    "2.\tWhat are the strengths and weaknesses of the design with respect to the target audience and the question you were intending to answer?\n",
    "3.\tIf relevant, suggest any ways in which your visualisation design could be improved."
   ]
  },
  {
   "cell_type": "markdown",
   "source": [
    "## Color Design\n",
    "The Color Wheel\n",
    "[https://content.codecademy.com/programs/ui-design/color-wheel/primary-color-wheel.svg](https://content.codecademy.com/programs/ui-design/color-wheel/primary-color-wheel.svg)\n",
    "\n",
    "https://www.december.com/html/spec/colorhsl.html"
   ],
   "metadata": {
    "collapsed": false
   }
  },
  {
   "cell_type": "code",
   "execution_count": null,
   "outputs": [],
   "source": [],
   "metadata": {
    "collapsed": false,
    "pycharm": {
     "name": "#%%\n"
    }
   }
  },
  {
   "cell_type": "markdown",
   "metadata": {
    "pycharm": {
     "name": "#%% md\n"
    }
   },
   "source": [
    "## visualisation templet\n",
    "Question to address：\n",
    "\n",
    "Target audience：\n",
    "\n",
    "Data needed:\n",
    "\n",
    "Type of chart and its appropriateness:\n",
    "\n",
    "The visual aspects of the design (e.g. style, colours, titles):\n",
    "\n",
    "Evaluation:\n",
    "1. How well does the visualisation you created meet with the design choices you made?\n",
    "\n",
    "2. What are the strengths and weaknesses of the design with respect to the target audience and the question you were intending to answer?\n",
    "\n",
    "3. If relevant, suggest any ways in which your visualisation design could be improved.\n"
   ]
  },
  {
   "cell_type": "markdown",
   "metadata": {
    "pycharm": {
     "name": "#%% md\n"
    }
   },
   "source": [
    "## visualisation 1\n",
    "https://visage.co/12-design-tips-bar-charts/\n",
    "\n",
    "https://www.linkedin.com/learning/data-visualization-tips-and-tricks/bar-charts-across-categories-14280967?autoAdvance=true&autoSkip=false&autoplay=true&resume=false\n",
    "https://depictdatastudio.com/when-to-use-horizontal-bar-charts-vs-vertical-column-charts/\n",
    "\n",
    "***Question to address：Which season had the highest total bike rent count?***\n",
    "\n",
    "Target audience：Data analysts and managers from Seoul Bike company.\n",
    "\n",
    "Data needed:\n",
    "\n",
    "'Seasons' and 'Rented Bike Count' fields\n",
    "\n",
    "Type of chart and its appropriateness:\n",
    "Bar chart.\n",
    "We need comparison between different categories(seasons), and the data is discrete. Bar chart is ideal for representing the discrete, numerical comparisons across different seasons. It encodes the value in the length of a bar across an axis, which makes it easy to be understood by human's brain.\n",
    "\n",
    "\n",
    "The visual aspects of the design (e.g. style, colours, titles):\n",
    "\n",
    "title: Total Bike Rent Count by Season\n",
    "x-label: Season\n",
    "y-label: Rented Bike Count\n",
    "\n",
    "Stick to 2D bar chart to keep the data accurate.\n",
    "Vertical Bar Charts because it will give a better visualisation for bar chart representing seasons.\n",
    "Keep bar widths consistent,the space between them should be half the width of the bars themselves to give better visual result.\n",
    "The target audiences are professional, we shall use consistent colors as too much variation will distract them from the data.\n",
    "Ditch the grid to give a better data-ink ratio.\n",
    "Chart labels are left off all the time.\n",
    "\n",
    "\n",
    "\n",
    "Evaluation:\n",
    "1. How well does the visualisation you created meet with the design choices you made?\n",
    "\n",
    "2. What are the strengths and weaknesses of the design with respect to the target audience and the question you were intending to answer?\n",
    "\n",
    "3. If relevant, suggest any ways in which your visualisation design could be improved."
   ]
  },
  {
   "cell_type": "markdown",
   "metadata": {},
   "source": [
    "## visualisation 2\n",
    "https://depictdatastudio.com/charts/line/\n",
    "https://handsondataviz.org/chart-design.html\n",
    "***Question to address： What is the relationship between average number of bikes rented per hour and the temperature?***\n",
    "\n",
    "\n",
    "Target audience：Data analysts and managers from Seoul Bike company.\n",
    "\n",
    "Data needed:'Temperature' 'Rented Bike Count'\n",
    "\n",
    "Type of chart and its appropriateness: line chart\n",
    "Line Graphs are used to display quantitative values over a continuous interval(temperature). A Line Graph is most frequently used to show trends and ideal for those data analysts to analyse how the average number of bikes rented per hour has changed with temperature. Under this scenario, we're not interested necessarily in the overall amount; we're looking at the trend and changes under different temperature, which is what the line chart gives us. The gradient of the line tells us whether it's increasing at a high rate or low rate, or if it's flat which means it's not changing at all. This is what makes the line chart the best choice for our data. Line graphs will show trends very clearly and can help to make data analysts to make predictions about the rented bike count at temperature not yet recorded.\n",
    "\n",
    "The visual aspects of the design (e.g. style, colours, titles):\n",
    "title: Average rented bike count between\n",
    "x-label: Temperature(°C)\n",
    "y-label: Average Rented Bike Count\n",
    "\n",
    "\n",
    "Evaluation:\n",
    "1. How well does the visualisation you created meet with the design choices you made?\n",
    "\n",
    "2. What are the strengths and weaknesses of the design with respect to the target audience and the question you were intending to answer?\n",
    "\n",
    "3. If relevant, suggest any ways in which your visualisation design could be improved."
   ]
  },
  {
   "cell_type": "markdown",
   "source": [
    "## visualisation 3\n",
    "https://developers.google.com/chart/interactive/docs/gallery/areachart\n",
    "***Question to address：What is the distribution of number of bikes rented throughout the record period?***\n",
    "\n",
    "Target audience：Data analysts and managers from Seoul Bike company.\n",
    "\n",
    "Data needed:'Date','Rented Bike Count'\n",
    "\n",
    "Type of chart and its appropriateness: Area chart\n",
    "An area chart is a line chart where the area between the line and the axis are shaded with a color. The area chart is best for combining both the actual numerical number of bike rented count, and it's changing trend.\n",
    "\n",
    "The visual aspects of the design (e.g. style, colours, titles):\n",
    "Title: Bike Rented Count across Time\n",
    "x-label: Date\n",
    "y-label: Rented Bike Count\n",
    "\n",
    "Evaluation:\n",
    "1. How well does the visualisation you created meet with the design choices you made?\n",
    "\n",
    "2. What are the strengths and weaknesses of the design with respect to the target audience and the question you were intending to answer?\n",
    "\n",
    "3. If relevant, suggest any ways in which your visualisation design could be improved."
   ],
   "metadata": {
    "collapsed": false
   }
  },
  {
   "cell_type": "markdown",
   "source": [
    "## visualisation 4\n",
    "***Question to address： What were the hours during which the rent were the highest?***\n",
    "\n",
    "Target audience：Data analysts and managers from Seoul Bike company.\n",
    "\n",
    "Data needed:'Hour','Rented Bike Count'\n",
    "\n",
    "Type of chart and its appropriateness: bar and line chart\n",
    "The actual number of rented bike can be noticed easily through the lengths of bars. Meanwhile, the chart illustrates comparison among different hours. Therefore, the data analysts are able to distinguish peak and over-peak hours. Along with this question, data analysts may also want to look at the trend of bike rented count across time.\n",
    "For the use of a line chart, data analysts can follow the change of count over distinct hours, which satisfies the need.\n",
    "\n",
    "\n",
    "The visual aspects of the design (e.g. style, colours, titles):\n",
    "Title: Total bike rented count across hours of a day.\n",
    "x-label: Hour\n",
    "y-label: Rented Bike Count\n",
    "\n",
    "Evaluation:\n",
    "1. How well does the visualisation you created meet with the design choices you made?\n",
    "\n",
    "2. What are the strengths and weaknesses of the design with respect to the target audience and the question you were intending to answer?\n",
    "\n",
    "3. If relevant, suggest any ways in which your visualisation design could be improved."
   ],
   "metadata": {
    "collapsed": false
   }
  },
  {
   "cell_type": "markdown",
   "source": [
    "## visualisation 5\n",
    "https://towardsdatascience.com/all-about-heatmaps-bb7d97f099d7\n",
    "***Question to address：What is the correlation between each two weather factors?***\n",
    "\n",
    "Target audience：Data analysts and managers from Seoul Bike company.\n",
    "\n",
    "Data needed:Rented Bike Count,Hour,Temperature,Humidity(%),Wind speed (m/s),Visibility (10m),Solar Radiation (MJ/m2),Rainfall(mm),Snowfall (cm)\n",
    "\n",
    "Type of chart and its appropriateness: Heat map\n",
    "Heatmaps can show relationships between variables, using hue, saturation, or luminance to achieve color variation to display various details.This color variation gives visual cues to the readers about the magnitude of numeric values.In that case, the correlation between every two weather factors can be visualised by the colors as well as the numbers on the heatmap.\n",
    "\n",
    "The visual aspects of the design (e.g. style, colours, titles):\n",
    "Title: Correlation Between Weather Factors\n",
    "\n",
    "Evaluation:\n",
    "1. How well does the visualisation you created meet with the design choices you made?\n",
    "\n",
    "2. What are the strengths and weaknesses of the design with respect to the target audience and the question you were intending to answer?\n",
    "\n",
    "3. If relevant, suggest any ways in which your visualisation design could be improved.\n"
   ],
   "metadata": {
    "collapsed": false
   }
  },
  {
   "cell_type": "markdown",
   "source": [
    "## visualisation 6\n",
    "***Question to address：What is the relationship between average number of bikes rented per hour and the rainfall?***\n",
    "\n",
    "Target audience：Data analysts and managers from Seoul Bike company.\n",
    "\n",
    "Data needed:Rented Bike Count, Rainfall(mm)\n",
    "\n",
    "Type of chart and its appropriateness: line chart\n",
    "Quantitative values can be displayed by line Graphs over a continuous interval(rainfall). In this question, line graph demonstrates the trend and changes under different rainfall. The gradient indicates whether it is increasing at a fast or slow rate, or whether it is flat, meaning it is not changing at all. Line graphs will show trends very clearly and can help to make data analysts to make predictions about the rented bike count at rainfall not yet recorded.\n",
    "\n",
    "\n",
    "The visual aspects of the design (e.g. style, colours, titles):\n",
    "Title: Average Number of Bikes Rented per Hour across Rainfall\n",
    "X-label: Rainfall(mm)\n",
    "Y-label:Average Rented Bike Count\n",
    "\n",
    "\n",
    "Evaluation:\n",
    "1. How well does the visualisation you created meet with the design choices you made?\n",
    "\n",
    "2. What are the strengths and weaknesses of the design with respect to the target audience and the question you were intending to answer?\n",
    "\n",
    "3. If relevant, suggest any ways in which your visualisation design could be improved."
   ],
   "metadata": {
    "collapsed": false
   }
  },
  {
   "cell_type": "markdown",
   "metadata": {
    "pycharm": {
     "name": "#%% md\n"
    }
   },
   "source": [
    "## visualisation 7\n",
    "https://www.excelr.com/advantages-and-disadvantages-of-pie-charts\n",
    "https://handsondataviz.org/chart-design.html\n",
    "https://blog.datawrapper.de/colorguide/\n",
    "***Question to address：What is the distribution of number of bikes rented during day and night?***\n",
    "\n",
    "Target audience：Data analysts and managers from Seoul Bike company.\n",
    "\n",
    "Data needed:'Day_night' and 'Rented Bike Count' fields\n",
    "\n",
    "Type of chart and its appropriateness: pie chart\n",
    "A pie chart works by showing the overall composition of a dataset by encoding the values in the angles. Day and night are two categories, this nature fits pie chart since pie charts only work well with a minimum number of segments. Three to four is probably about the maximum to deal with. Any more than that and the pie chart starts to get messy.By using a pie chart,it enables the target audience to see the day and night bike rented data comparison at a glance to make an immediate analysis and to understand information quickly.\n",
    "\n",
    "The visual aspects of the design (e.g. style, colours, titles):\n",
    "Title: Bike Rented Count during Day and Night\n",
    "Arrange slices from largest to smallest, clockwise, and put the largest slice at 12 o’clock.\n",
    "Remember that pie charts only show part-to-whole relationship, so all slices need to add up to 100%.\n",
    "\n",
    "First, remember that in most cases monochromatic (single-hue) charts suffice, and there may be no need to introduce the extra dimension of color at all.\n",
    "Second, refer to the color wheel and standard harmony rules when choosing your palette. Consider the rule of complementary colors—opposites in the color wheel—to find color pairs, such as blue and orange or yellow and purple. Analogous colors, or neighbors in the color wheel, make good palettes, such as orange, red, and pink.\n",
    "\n",
    "Third, stay away from pure saturated colors and instead choose their “earthier” versions, such as olive green instead of bright green, or navy instead of neon blue.\n",
    "Evaluation:\n",
    "1. How well does the visualisation you created meet with the design choices you made?\n",
    "\n",
    "2. What are the strengths and weaknesses of the design with respect to the target audience and the question you were intending to answer?\n",
    "\n",
    "3. If relevant, suggest any ways in which your visualisation design could be improved."
   ]
  },
  {
   "cell_type": "code",
   "execution_count": null,
   "outputs": [],
   "source": [],
   "metadata": {
    "collapsed": false,
    "pycharm": {
     "name": "#%%\n"
    }
   }
  }
 ],
 "metadata": {
  "kernelspec": {
   "display_name": "Python 3 (ipykernel)",
   "language": "python",
   "name": "python3"
  },
  "language_info": {
   "codemirror_mode": {
    "name": "ipython",
    "version": 3
   },
   "file_extension": ".py",
   "mimetype": "text/x-python",
   "name": "python",
   "nbconvert_exporter": "python",
   "pygments_lexer": "ipython3",
   "version": "3.9.1"
  }
 },
 "nbformat": 4,
 "nbformat_minor": 1
}
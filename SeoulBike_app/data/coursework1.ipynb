{
 "cells": [
  {
   "cell_type": "markdown",
   "metadata": {},
   "source": [
    "# Coursework 1\n",
    "\n",
    "Name: Xinyao Qian\n",
    "Student Number: 19021373\n",
    "test"
   ]
  },
  {
   "cell_type": "markdown",
   "metadata": {},
   "source": [
    "#### Import packages and datasets"
   ]
  },
  {
   "cell_type": "code",
   "execution_count": 26,
   "metadata": {
    "pycharm": {
     "name": "#%%\n"
    }
   },
   "outputs": [],
   "source": [
    "#Import package\n",
    "import pandas as pd"
   ]
  },
  {
   "cell_type": "code",
   "execution_count": 36,
   "metadata": {
    "pycharm": {
     "name": "#%%\n"
    }
   },
   "outputs": [
    {
     "data": {
      "text/plain": "          Date  Rented Bike Count  Hour  Temperature  Humidity(%)  \\\n0   2017-01-12                254     0         -5.2           37   \n1   2017-01-12                204     1         -5.5           38   \n2   2017-01-12                173     2         -6.0           39   \n3   2017-01-12                107     3         -6.2           40   \n4   2017-01-12                 78     4         -6.0           36   \n..         ...                ...   ...          ...          ...   \n215 2017-09-12                265    23         -0.1           54   \n216 2017-10-12                326     0         -0.2           55   \n217 2017-10-12                280     1         -0.2           54   \n218 2017-10-12                243     2          0.2           52   \n219 2017-10-12                169     3          0.3           53   \n\n     Wind speed (m/s)  Visibility (10m)  Solar Radiation (MJ/m2)  \\\n0                 2.2              2000                      0.0   \n1                 0.8              2000                      0.0   \n2                 1.0              2000                      0.0   \n3                 0.9              2000                      0.0   \n4                 2.3              2000                      0.0   \n..                ...               ...                      ...   \n215               1.3              1570                      0.0   \n216               1.0              1629                      0.0   \n217               0.5              1747                      0.0   \n218               0.7              1726                      0.0   \n219               0.5              1748                      0.0   \n\n     Rainfall(mm)  Snowfall (cm) Seasons Functioning Day Day_night  \n0             0.0            0.0  Winter             Yes     Night  \n1             0.0            0.0  Winter             Yes     Night  \n2             0.0            0.0  Winter             Yes     Night  \n3             0.0            0.0  Winter             Yes     Night  \n4             0.0            0.0  Winter             Yes     Night  \n..            ...            ...     ...             ...       ...  \n215           0.0            0.0  Winter             Yes     Night  \n216           0.0            0.0  Winter             Yes     Night  \n217           0.0            0.0  Winter             Yes     Night  \n218           0.0            0.0  Winter             Yes     Night  \n219           0.0            0.0  Winter             Yes     Night  \n\n[220 rows x 13 columns]",
      "text/html": "<div>\n<style scoped>\n    .dataframe tbody tr th:only-of-type {\n        vertical-align: middle;\n    }\n\n    .dataframe tbody tr th {\n        vertical-align: top;\n    }\n\n    .dataframe thead th {\n        text-align: right;\n    }\n</style>\n<table border=\"1\" class=\"dataframe\">\n  <thead>\n    <tr style=\"text-align: right;\">\n      <th></th>\n      <th>Date</th>\n      <th>Rented Bike Count</th>\n      <th>Hour</th>\n      <th>Temperature</th>\n      <th>Humidity(%)</th>\n      <th>Wind speed (m/s)</th>\n      <th>Visibility (10m)</th>\n      <th>Solar Radiation (MJ/m2)</th>\n      <th>Rainfall(mm)</th>\n      <th>Snowfall (cm)</th>\n      <th>Seasons</th>\n      <th>Functioning Day</th>\n      <th>Day_night</th>\n    </tr>\n  </thead>\n  <tbody>\n    <tr>\n      <th>0</th>\n      <td>2017-01-12</td>\n      <td>254</td>\n      <td>0</td>\n      <td>-5.2</td>\n      <td>37</td>\n      <td>2.2</td>\n      <td>2000</td>\n      <td>0.0</td>\n      <td>0.0</td>\n      <td>0.0</td>\n      <td>Winter</td>\n      <td>Yes</td>\n      <td>Night</td>\n    </tr>\n    <tr>\n      <th>1</th>\n      <td>2017-01-12</td>\n      <td>204</td>\n      <td>1</td>\n      <td>-5.5</td>\n      <td>38</td>\n      <td>0.8</td>\n      <td>2000</td>\n      <td>0.0</td>\n      <td>0.0</td>\n      <td>0.0</td>\n      <td>Winter</td>\n      <td>Yes</td>\n      <td>Night</td>\n    </tr>\n    <tr>\n      <th>2</th>\n      <td>2017-01-12</td>\n      <td>173</td>\n      <td>2</td>\n      <td>-6.0</td>\n      <td>39</td>\n      <td>1.0</td>\n      <td>2000</td>\n      <td>0.0</td>\n      <td>0.0</td>\n      <td>0.0</td>\n      <td>Winter</td>\n      <td>Yes</td>\n      <td>Night</td>\n    </tr>\n    <tr>\n      <th>3</th>\n      <td>2017-01-12</td>\n      <td>107</td>\n      <td>3</td>\n      <td>-6.2</td>\n      <td>40</td>\n      <td>0.9</td>\n      <td>2000</td>\n      <td>0.0</td>\n      <td>0.0</td>\n      <td>0.0</td>\n      <td>Winter</td>\n      <td>Yes</td>\n      <td>Night</td>\n    </tr>\n    <tr>\n      <th>4</th>\n      <td>2017-01-12</td>\n      <td>78</td>\n      <td>4</td>\n      <td>-6.0</td>\n      <td>36</td>\n      <td>2.3</td>\n      <td>2000</td>\n      <td>0.0</td>\n      <td>0.0</td>\n      <td>0.0</td>\n      <td>Winter</td>\n      <td>Yes</td>\n      <td>Night</td>\n    </tr>\n    <tr>\n      <th>...</th>\n      <td>...</td>\n      <td>...</td>\n      <td>...</td>\n      <td>...</td>\n      <td>...</td>\n      <td>...</td>\n      <td>...</td>\n      <td>...</td>\n      <td>...</td>\n      <td>...</td>\n      <td>...</td>\n      <td>...</td>\n      <td>...</td>\n    </tr>\n    <tr>\n      <th>215</th>\n      <td>2017-09-12</td>\n      <td>265</td>\n      <td>23</td>\n      <td>-0.1</td>\n      <td>54</td>\n      <td>1.3</td>\n      <td>1570</td>\n      <td>0.0</td>\n      <td>0.0</td>\n      <td>0.0</td>\n      <td>Winter</td>\n      <td>Yes</td>\n      <td>Night</td>\n    </tr>\n    <tr>\n      <th>216</th>\n      <td>2017-10-12</td>\n      <td>326</td>\n      <td>0</td>\n      <td>-0.2</td>\n      <td>55</td>\n      <td>1.0</td>\n      <td>1629</td>\n      <td>0.0</td>\n      <td>0.0</td>\n      <td>0.0</td>\n      <td>Winter</td>\n      <td>Yes</td>\n      <td>Night</td>\n    </tr>\n    <tr>\n      <th>217</th>\n      <td>2017-10-12</td>\n      <td>280</td>\n      <td>1</td>\n      <td>-0.2</td>\n      <td>54</td>\n      <td>0.5</td>\n      <td>1747</td>\n      <td>0.0</td>\n      <td>0.0</td>\n      <td>0.0</td>\n      <td>Winter</td>\n      <td>Yes</td>\n      <td>Night</td>\n    </tr>\n    <tr>\n      <th>218</th>\n      <td>2017-10-12</td>\n      <td>243</td>\n      <td>2</td>\n      <td>0.2</td>\n      <td>52</td>\n      <td>0.7</td>\n      <td>1726</td>\n      <td>0.0</td>\n      <td>0.0</td>\n      <td>0.0</td>\n      <td>Winter</td>\n      <td>Yes</td>\n      <td>Night</td>\n    </tr>\n    <tr>\n      <th>219</th>\n      <td>2017-10-12</td>\n      <td>169</td>\n      <td>3</td>\n      <td>0.3</td>\n      <td>53</td>\n      <td>0.5</td>\n      <td>1748</td>\n      <td>0.0</td>\n      <td>0.0</td>\n      <td>0.0</td>\n      <td>Winter</td>\n      <td>Yes</td>\n      <td>Night</td>\n    </tr>\n  </tbody>\n</table>\n<p>220 rows × 13 columns</p>\n</div>"
     },
     "execution_count": 36,
     "metadata": {},
     "output_type": "execute_result"
    }
   ],
   "source": [
    "# import dataset\n",
    "\n",
    "df = pd.read_csv(\"Prepared_data.csv\")\n"
   ]
  },
  {
   "cell_type": "code",
   "execution_count": 28,
   "metadata": {
    "pycharm": {
     "name": "#%%\n"
    }
   },
   "outputs": [
    {
     "name": "stdout",
     "output_type": "stream",
     "text": [
      "No. of columns =  13\n",
      "No. of rows =  8760\n",
      "(8760, 13)\n"
     ]
    }
   ],
   "source": [
    "# Print the number of rows and columns in the DataFrame\n",
    "print('No. of columns = ',len(df.columns))\n",
    "print('No. of rows = ',len(df))\n",
    "print(df.shape)"
   ]
  },
  {
   "cell_type": "code",
   "execution_count": 29,
   "metadata": {
    "pycharm": {
     "name": "#%%\n"
    }
   },
   "outputs": [
    {
     "name": "stdout",
     "output_type": "stream",
     "text": [
      "<class 'pandas.core.frame.DataFrame'>\n",
      "RangeIndex: 8760 entries, 0 to 8759\n",
      "Data columns (total 13 columns):\n",
      " #   Column                   Non-Null Count  Dtype         \n",
      "---  ------                   --------------  -----         \n",
      " 0   Date                     8760 non-null   datetime64[ns]\n",
      " 1   Rented Bike Count        8760 non-null   int64         \n",
      " 2   Hour                     8760 non-null   int64         \n",
      " 3   Temperature              8760 non-null   float64       \n",
      " 4   Humidity(%)              8760 non-null   int64         \n",
      " 5   Wind speed (m/s)         8760 non-null   float64       \n",
      " 6   Visibility (10m)         8760 non-null   int64         \n",
      " 7   Solar Radiation (MJ/m2)  8760 non-null   float64       \n",
      " 8   Rainfall(mm)             8760 non-null   float64       \n",
      " 9   Snowfall (cm)            8760 non-null   float64       \n",
      " 10  Seasons                  8760 non-null   object        \n",
      " 11  Functioning Day          8760 non-null   object        \n",
      " 12  Day_night                8760 non-null   object        \n",
      "dtypes: datetime64[ns](1), float64(5), int64(4), object(3)\n",
      "memory usage: 889.8+ KB\n"
     ]
    }
   ],
   "source": [
    "df.info()"
   ]
  },
  {
   "cell_type": "markdown",
   "metadata": {},
   "source": [
    "#### Check for null values"
   ]
  },
  {
   "cell_type": "code",
   "execution_count": 30,
   "metadata": {
    "pycharm": {
     "name": "#%%\n"
    }
   },
   "outputs": [
    {
     "data": {
      "text/plain": "2017-01-12    24\n2018-09-08    24\n2018-07-08    24\n2018-06-08    24\n2018-05-08    24\n              ..\n2018-03-31    24\n2018-03-30    24\n2018-03-29    24\n2018-03-28    24\n2018-11-30    24\nName: Date, Length: 365, dtype: int64"
     },
     "execution_count": 30,
     "metadata": {},
     "output_type": "execute_result"
    }
   ],
   "source": [
    "# Actual unique dates in dataframe:\n",
    "df['Date'].value_counts()"
   ]
  },
  {
   "cell_type": "code",
   "execution_count": 31,
   "metadata": {
    "pycharm": {
     "name": "#%%\n"
    }
   },
   "outputs": [],
   "source": [
    "import pandas as pd\n",
    "import matplotlib.pyplot as plt\n",
    "import numpy as np"
   ]
  },
  {
   "cell_type": "markdown",
   "metadata": {},
   "source": [
    "#### Check Basic stats"
   ]
  },
  {
   "cell_type": "code",
   "execution_count": 32,
   "metadata": {
    "pycharm": {
     "name": "#%%\n"
    }
   },
   "outputs": [
    {
     "data": {
      "text/plain": "       Rented Bike Count         Hour  Temperature  Humidity(%)  \\\ncount        8760.000000  8760.000000  8760.000000  8760.000000   \nmean          704.602055    11.500000    12.882922    58.226256   \nstd           644.997468     6.922582    11.944825    20.362413   \nmin             0.000000     0.000000   -17.800000     0.000000   \n25%           191.000000     5.750000     3.500000    42.000000   \n50%           504.500000    11.500000    13.700000    57.000000   \n75%          1065.250000    17.250000    22.500000    74.000000   \nmax          3556.000000    23.000000    39.400000    98.000000   \n\n       Wind speed (m/s)  Visibility (10m)  Solar Radiation (MJ/m2)  \\\ncount       8760.000000       8760.000000              8760.000000   \nmean           1.724909       1436.825799                 0.569111   \nstd            1.036300        608.298712                 0.868746   \nmin            0.000000         27.000000                 0.000000   \n25%            0.900000        940.000000                 0.000000   \n50%            1.500000       1698.000000                 0.010000   \n75%            2.300000       2000.000000                 0.930000   \nmax            7.400000       2000.000000                 3.520000   \n\n       Rainfall(mm)  Snowfall (cm)  \ncount   8760.000000    8760.000000  \nmean       0.148687       0.075068  \nstd        1.128193       0.436746  \nmin        0.000000       0.000000  \n25%        0.000000       0.000000  \n50%        0.000000       0.000000  \n75%        0.000000       0.000000  \nmax       35.000000       8.800000  ",
      "text/html": "<div>\n<style scoped>\n    .dataframe tbody tr th:only-of-type {\n        vertical-align: middle;\n    }\n\n    .dataframe tbody tr th {\n        vertical-align: top;\n    }\n\n    .dataframe thead th {\n        text-align: right;\n    }\n</style>\n<table border=\"1\" class=\"dataframe\">\n  <thead>\n    <tr style=\"text-align: right;\">\n      <th></th>\n      <th>Rented Bike Count</th>\n      <th>Hour</th>\n      <th>Temperature</th>\n      <th>Humidity(%)</th>\n      <th>Wind speed (m/s)</th>\n      <th>Visibility (10m)</th>\n      <th>Solar Radiation (MJ/m2)</th>\n      <th>Rainfall(mm)</th>\n      <th>Snowfall (cm)</th>\n    </tr>\n  </thead>\n  <tbody>\n    <tr>\n      <th>count</th>\n      <td>8760.000000</td>\n      <td>8760.000000</td>\n      <td>8760.000000</td>\n      <td>8760.000000</td>\n      <td>8760.000000</td>\n      <td>8760.000000</td>\n      <td>8760.000000</td>\n      <td>8760.000000</td>\n      <td>8760.000000</td>\n    </tr>\n    <tr>\n      <th>mean</th>\n      <td>704.602055</td>\n      <td>11.500000</td>\n      <td>12.882922</td>\n      <td>58.226256</td>\n      <td>1.724909</td>\n      <td>1436.825799</td>\n      <td>0.569111</td>\n      <td>0.148687</td>\n      <td>0.075068</td>\n    </tr>\n    <tr>\n      <th>std</th>\n      <td>644.997468</td>\n      <td>6.922582</td>\n      <td>11.944825</td>\n      <td>20.362413</td>\n      <td>1.036300</td>\n      <td>608.298712</td>\n      <td>0.868746</td>\n      <td>1.128193</td>\n      <td>0.436746</td>\n    </tr>\n    <tr>\n      <th>min</th>\n      <td>0.000000</td>\n      <td>0.000000</td>\n      <td>-17.800000</td>\n      <td>0.000000</td>\n      <td>0.000000</td>\n      <td>27.000000</td>\n      <td>0.000000</td>\n      <td>0.000000</td>\n      <td>0.000000</td>\n    </tr>\n    <tr>\n      <th>25%</th>\n      <td>191.000000</td>\n      <td>5.750000</td>\n      <td>3.500000</td>\n      <td>42.000000</td>\n      <td>0.900000</td>\n      <td>940.000000</td>\n      <td>0.000000</td>\n      <td>0.000000</td>\n      <td>0.000000</td>\n    </tr>\n    <tr>\n      <th>50%</th>\n      <td>504.500000</td>\n      <td>11.500000</td>\n      <td>13.700000</td>\n      <td>57.000000</td>\n      <td>1.500000</td>\n      <td>1698.000000</td>\n      <td>0.010000</td>\n      <td>0.000000</td>\n      <td>0.000000</td>\n    </tr>\n    <tr>\n      <th>75%</th>\n      <td>1065.250000</td>\n      <td>17.250000</td>\n      <td>22.500000</td>\n      <td>74.000000</td>\n      <td>2.300000</td>\n      <td>2000.000000</td>\n      <td>0.930000</td>\n      <td>0.000000</td>\n      <td>0.000000</td>\n    </tr>\n    <tr>\n      <th>max</th>\n      <td>3556.000000</td>\n      <td>23.000000</td>\n      <td>39.400000</td>\n      <td>98.000000</td>\n      <td>7.400000</td>\n      <td>2000.000000</td>\n      <td>3.520000</td>\n      <td>35.000000</td>\n      <td>8.800000</td>\n    </tr>\n  </tbody>\n</table>\n</div>"
     },
     "execution_count": 32,
     "metadata": {},
     "output_type": "execute_result"
    }
   ],
   "source": [
    "df.describe()"
   ]
  },
  {
   "cell_type": "markdown",
   "metadata": {},
   "source": [
    "#### Daily rents throughout the year"
   ]
  },
  {
   "cell_type": "code",
   "execution_count": 33,
   "metadata": {
    "pycharm": {
     "name": "#%%\n"
    }
   },
   "outputs": [
    {
     "data": {
      "text/plain": "Date\n2017-01-12     9539\n2017-02-12     8523\n2017-03-12     7222\n2017-04-12     8729\n2017-05-12     8307\n              ...  \n2018-12-07    29428\n2018-12-08    17498\n2018-12-09    31809\n2018-12-10    26237\n2018-12-11    21003\nName: Rented Bike Count, Length: 365, dtype: int64"
     },
     "execution_count": 33,
     "metadata": {},
     "output_type": "execute_result"
    }
   ],
   "source": [
    "df.groupby('Date')['Rented Bike Count'].sum()"
   ]
  },
  {
   "cell_type": "markdown",
   "metadata": {},
   "source": [
    " From the plot, we can roughly see that the highest\n",
    " amount of rents was between June 2018 and July 2018. We\n",
    " want to explore it further to see the linkage of\n",
    " rents with the season."
   ]
  },
  {
   "cell_type": "markdown",
   "metadata": {},
   "source": [
    "#### Exploring the relationship between total rented bike count and seasons\n",
    "Sum the 'Rented Bike Count' by 'Seasons' and plot the bar\n",
    "chart in ascending order."
   ]
  },
  {
   "cell_type": "code",
   "execution_count": 18,
   "metadata": {
    "pycharm": {
     "name": "#%%\n"
    }
   },
   "outputs": [
    {
     "data": {
      "text/plain": "  Seasons  Total Amount\n0  Autumn       1790002\n1  Spring       1611909\n2  Summer       2283234\n3  Winter        487169",
      "text/html": "<div>\n<style scoped>\n    .dataframe tbody tr th:only-of-type {\n        vertical-align: middle;\n    }\n\n    .dataframe tbody tr th {\n        vertical-align: top;\n    }\n\n    .dataframe thead th {\n        text-align: right;\n    }\n</style>\n<table border=\"1\" class=\"dataframe\">\n  <thead>\n    <tr style=\"text-align: right;\">\n      <th></th>\n      <th>Seasons</th>\n      <th>Total Amount</th>\n    </tr>\n  </thead>\n  <tbody>\n    <tr>\n      <th>0</th>\n      <td>Autumn</td>\n      <td>1790002</td>\n    </tr>\n    <tr>\n      <th>1</th>\n      <td>Spring</td>\n      <td>1611909</td>\n    </tr>\n    <tr>\n      <th>2</th>\n      <td>Summer</td>\n      <td>2283234</td>\n    </tr>\n    <tr>\n      <th>3</th>\n      <td>Winter</td>\n      <td>487169</td>\n    </tr>\n  </tbody>\n</table>\n</div>"
     },
     "execution_count": 18,
     "metadata": {},
     "output_type": "execute_result"
    }
   ],
   "source": [
    "\n",
    "seasons = df.groupby('Seasons')['Rented Bike Count'].sum().reset_index(name ='Total Amount')\n",
    "seasons.head()"
   ]
  },
  {
   "cell_type": "code",
   "execution_count": null,
   "outputs": [],
   "source": [],
   "metadata": {
    "collapsed": false,
    "pycharm": {
     "name": "#%%\n"
    }
   }
  },
  {
   "cell_type": "markdown",
   "metadata": {},
   "source": [
    "The result was the same as that would be expected,\n",
    "that summer was\n",
    " the\n",
    "season with the highest rent count while winter had the\n",
    "lowest amount."
   ]
  },
  {
   "cell_type": "markdown",
   "metadata": {},
   "source": [
    "#### Splitting Summer data"
   ]
  },
  {
   "cell_type": "code",
   "execution_count": 78,
   "metadata": {
    "pycharm": {
     "name": "#%%\n"
    }
   },
   "outputs": [
    {
     "data": {
      "text/plain": "         Date  Rented Bike Count  Hour  Temperature  Humidity(%)  \\\n0  2018-01-06                963     0         20.1           63   \n\n   Wind speed (m/s)  Visibility (10m)  Solar Radiation (MJ/m2)  Rainfall(mm)  \\\n0               1.1              1698                      0.0           0.0   \n\n   Snowfall (cm) Seasons Functioning Day  \n0            0.0  Summer             Yes  ",
      "text/html": "<div>\n<style scoped>\n    .dataframe tbody tr th:only-of-type {\n        vertical-align: middle;\n    }\n\n    .dataframe tbody tr th {\n        vertical-align: top;\n    }\n\n    .dataframe thead th {\n        text-align: right;\n    }\n</style>\n<table border=\"1\" class=\"dataframe\">\n  <thead>\n    <tr style=\"text-align: right;\">\n      <th></th>\n      <th>Date</th>\n      <th>Rented Bike Count</th>\n      <th>Hour</th>\n      <th>Temperature</th>\n      <th>Humidity(%)</th>\n      <th>Wind speed (m/s)</th>\n      <th>Visibility (10m)</th>\n      <th>Solar Radiation (MJ/m2)</th>\n      <th>Rainfall(mm)</th>\n      <th>Snowfall (cm)</th>\n      <th>Seasons</th>\n      <th>Functioning Day</th>\n    </tr>\n  </thead>\n  <tbody>\n    <tr>\n      <th>0</th>\n      <td>2018-01-06</td>\n      <td>963</td>\n      <td>0</td>\n      <td>20.1</td>\n      <td>63</td>\n      <td>1.1</td>\n      <td>1698</td>\n      <td>0.0</td>\n      <td>0.0</td>\n      <td>0.0</td>\n      <td>Summer</td>\n      <td>Yes</td>\n    </tr>\n  </tbody>\n</table>\n</div>"
     },
     "execution_count": 78,
     "metadata": {},
     "output_type": "execute_result"
    }
   ],
   "source": [
    "df_summer = df.loc[df['Seasons'] == 'Summer']\n",
    "df_summer.reset_index(drop=True, inplace=True)\n",
    "df_summer.head(1)"
   ]
  },
  {
   "cell_type": "code",
   "execution_count": 79,
   "metadata": {
    "pycharm": {
     "name": "#%%\n"
    }
   },
   "outputs": [
    {
     "data": {
      "text/plain": "            Date  Rented Bike Count  Hour  Temperature  Humidity(%)  \\\n2207  2018-08-31               1329    23         23.8           81   \n\n      Wind speed (m/s)  Visibility (10m)  Solar Radiation (MJ/m2)  \\\n2207               0.6              1893                      0.0   \n\n      Rainfall(mm)  Snowfall (cm) Seasons Functioning Day  \n2207           0.0            0.0  Summer             Yes  ",
      "text/html": "<div>\n<style scoped>\n    .dataframe tbody tr th:only-of-type {\n        vertical-align: middle;\n    }\n\n    .dataframe tbody tr th {\n        vertical-align: top;\n    }\n\n    .dataframe thead th {\n        text-align: right;\n    }\n</style>\n<table border=\"1\" class=\"dataframe\">\n  <thead>\n    <tr style=\"text-align: right;\">\n      <th></th>\n      <th>Date</th>\n      <th>Rented Bike Count</th>\n      <th>Hour</th>\n      <th>Temperature</th>\n      <th>Humidity(%)</th>\n      <th>Wind speed (m/s)</th>\n      <th>Visibility (10m)</th>\n      <th>Solar Radiation (MJ/m2)</th>\n      <th>Rainfall(mm)</th>\n      <th>Snowfall (cm)</th>\n      <th>Seasons</th>\n      <th>Functioning Day</th>\n    </tr>\n  </thead>\n  <tbody>\n    <tr>\n      <th>2207</th>\n      <td>2018-08-31</td>\n      <td>1329</td>\n      <td>23</td>\n      <td>23.8</td>\n      <td>81</td>\n      <td>0.6</td>\n      <td>1893</td>\n      <td>0.0</td>\n      <td>0.0</td>\n      <td>0.0</td>\n      <td>Summer</td>\n      <td>Yes</td>\n    </tr>\n  </tbody>\n</table>\n</div>"
     },
     "execution_count": 79,
     "metadata": {},
     "output_type": "execute_result"
    }
   ],
   "source": [
    "df_summer.tail(1)"
   ]
  },
  {
   "cell_type": "markdown",
   "metadata": {},
   "source": [
    "From the head and tail of the summer dataframe, the\n",
    "summer was from 2018-01-06 to 2018-08-31. The result was\n",
    "also consistent with the 'Daily_total_rents.jpg' where\n",
    " the\n",
    "highest amount happened."
   ]
  },
  {
   "cell_type": "markdown",
   "metadata": {},
   "source": [
    "#### Exploring average bike count rented per hour"
   ]
  },
  {
   "cell_type": "code",
   "execution_count": 22,
   "outputs": [
    {
     "data": {
      "text/plain": "   Hour  Total Amount\n0     0        197633\n1     1        155557\n2     2        110095\n3     3         74216\n4     4         48396",
      "text/html": "<div>\n<style scoped>\n    .dataframe tbody tr th:only-of-type {\n        vertical-align: middle;\n    }\n\n    .dataframe tbody tr th {\n        vertical-align: top;\n    }\n\n    .dataframe thead th {\n        text-align: right;\n    }\n</style>\n<table border=\"1\" class=\"dataframe\">\n  <thead>\n    <tr style=\"text-align: right;\">\n      <th></th>\n      <th>Hour</th>\n      <th>Total Amount</th>\n    </tr>\n  </thead>\n  <tbody>\n    <tr>\n      <th>0</th>\n      <td>0</td>\n      <td>197633</td>\n    </tr>\n    <tr>\n      <th>1</th>\n      <td>1</td>\n      <td>155557</td>\n    </tr>\n    <tr>\n      <th>2</th>\n      <td>2</td>\n      <td>110095</td>\n    </tr>\n    <tr>\n      <th>3</th>\n      <td>3</td>\n      <td>74216</td>\n    </tr>\n    <tr>\n      <th>4</th>\n      <td>4</td>\n      <td>48396</td>\n    </tr>\n  </tbody>\n</table>\n</div>"
     },
     "execution_count": 22,
     "metadata": {},
     "output_type": "execute_result"
    }
   ],
   "source": [
    "\n",
    "hour=df.groupby('Hour').sum()['Rented Bike Count'].reset_index(name ='Total Amount')\n",
    "hour.head()\n",
    "#df.groupby('Hour').sum()['Rented Bike Count'].plot.bar(color='pink')"
   ],
   "metadata": {
    "collapsed": false,
    "pycharm": {
     "name": "#%%\n"
    }
   }
  },
  {
   "cell_type": "code",
   "execution_count": null,
   "outputs": [],
   "source": [],
   "metadata": {
    "collapsed": false,
    "pycharm": {
     "name": "#%%\n"
    }
   }
  },
  {
   "cell_type": "markdown",
   "metadata": {},
   "source": [
    "#### Split daytime and night-time\n",
    "To define whether the hour is daytime or night , we assumed\n",
    "6:00 - 19:00 as daytime, and created a function to\n",
    "determine the category."
   ]
  },
  {
   "cell_type": "code",
   "execution_count": null,
   "metadata": {
    "pycharm": {
     "name": "#%%\n"
    }
   },
   "outputs": [],
   "source": [
    "# Function to define the Day and Night\n",
    "def day_or_night(rows):\n",
    "    \"\"\"Takes in a number rows, returns category of n\"\"\"\n",
    "    if rows['Hour'] >19 or rows['Hour']<6:\n",
    "        val = 'Night'\n",
    "    else:\n",
    "        val = 'Day'\n",
    "    return val\n",
    "# Creat a new column in the dataframe\n",
    "df['Day_night'] = df.apply(day_or_night, axis=1)\n",
    "#Plot\n",
    "day_night = df.groupby('Day_night').sum()['Rented Bike Count'].plot.pie()\n",
    "day_night.figure.savefig('Plots/Day_night_total_rents.jpg')"
   ]
  },
  {
   "cell_type": "code",
   "execution_count": null,
   "outputs": [],
   "source": [
    "df.head()\n"
   ],
   "metadata": {
    "collapsed": false,
    "pycharm": {
     "name": "#%%\n"
    }
   }
  },
  {
   "cell_type": "markdown",
   "metadata": {},
   "source": [
    "#### Exploring relationship between rented bike count and temperature"
   ]
  },
  {
   "cell_type": "code",
   "execution_count": null,
   "metadata": {
    "pycharm": {
     "name": "#%%\n"
    }
   },
   "outputs": [],
   "source": [
    "temp_rent = df.groupby('Temperature').mean()['Rented Bike Count'].plot(figsize=(40,10),color=\"lightpink\")\n",
    "\n",
    "temp_rent.figure.savefig('Plots/Temp_average.jpg')"
   ]
  },
  {
   "cell_type": "markdown",
   "metadata": {},
   "source": [
    "#### Exploring relationship between rented bike count and\n",
    "#### snowfall"
   ]
  },
  {
   "cell_type": "code",
   "execution_count": null,
   "metadata": {
    "pycharm": {
     "name": "#%%\n"
    }
   },
   "outputs": [],
   "source": [
    "snow_rent = df.groupby('Snowfall (cm)').mean()['Rented Bike Count'].plot()\n",
    "snow_rent.figure.savefig('Plots/Snow_average.jpg')"
   ]
  },
  {
   "cell_type": "code",
   "execution_count": null,
   "outputs": [],
   "source": [
    "\n",
    "df.groupby('Rainfall(mm)').mean()['Rented Bike Count'].plot()\n"
   ],
   "metadata": {
    "collapsed": false,
    "pycharm": {
     "name": "#%%\n"
    }
   }
  },
  {
   "cell_type": "markdown",
   "metadata": {},
   "source": [
    "#### Identify outliers"
   ]
  },
  {
   "cell_type": "code",
   "execution_count": null,
   "metadata": {
    "pycharm": {
     "name": "#%%\n"
    }
   },
   "outputs": [],
   "source": [
    "bp = df.plot.box(subplots=True)\n",
    "plt.show()"
   ]
  },
  {
   "cell_type": "markdown",
   "metadata": {},
   "source": [
    "We shall investigate the outlier in Rented bike box plot"
   ]
  },
  {
   "cell_type": "code",
   "execution_count": null,
   "metadata": {
    "pycharm": {
     "name": "#%%\n"
    }
   },
   "outputs": [],
   "source": [
    "outlier_bike = df[df['Rented Bike Count']>2400]\n",
    "outlier_bike['Hour'].unique()"
   ]
  },
  {
   "cell_type": "code",
   "execution_count": null,
   "outputs": [],
   "source": [],
   "metadata": {
    "collapsed": false,
    "pycharm": {
     "name": "#%%\n"
    }
   }
  },
  {
   "cell_type": "markdown",
   "metadata": {},
   "source": [
    "We can see the outliers in the bike count were due to the\n",
    "high demand for bikes in rush hours and consistent with\n",
    "the Hour_average.jpg plot, we decided not to remove those\n",
    " data.\n"
   ]
  },
  {
   "cell_type": "markdown",
   "metadata": {},
   "source": []
  }
 ],
 "metadata": {
  "kernelspec": {
   "display_name": "Python 3 (ipykernel)",
   "language": "python",
   "name": "python3"
  },
  "language_info": {
   "codemirror_mode": {
    "name": "ipython",
    "version": 3
   },
   "file_extension": ".py",
   "mimetype": "text/x-python",
   "name": "python",
   "nbconvert_exporter": "python",
   "pygments_lexer": "ipython3",
   "version": "3.9.1"
  }
 },
 "nbformat": 4,
 "nbformat_minor": 1
}
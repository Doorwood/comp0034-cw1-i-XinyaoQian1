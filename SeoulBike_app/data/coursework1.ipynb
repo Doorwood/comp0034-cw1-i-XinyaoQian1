{
 "cells": [
  {
   "cell_type": "markdown",
   "metadata": {},
   "source": [
    "# Coursework 1\n",
    "\n",
    "Name: Xinyao Qian\n",
    "Student Number: 19021373\n",
    "test"
   ]
  },
  {
   "cell_type": "markdown",
   "metadata": {},
   "source": [
    "#### Import packages and datasets"
   ]
  },
  {
   "cell_type": "code",
   "execution_count": 1,
   "metadata": {
    "pycharm": {
     "name": "#%%\n"
    }
   },
   "outputs": [],
   "source": [
    "#Import package\n",
    "import pandas as pd\n",
    "import datetime as dt"
   ]
  },
  {
   "cell_type": "code",
   "execution_count": 40,
   "metadata": {
    "pycharm": {
     "name": "#%%\n"
    }
   },
   "outputs": [],
   "source": [
    "# import dataset\n",
    "\n",
    "df = pd.read_csv(\"Prepared_data.csv\")\n",
    "df['Date']=pd.to_datetime(df['Date'],format=\"%Y/%m/%d\")\n",
    "df['month'] = df['Date'].dt.month"
   ]
  },
  {
   "cell_type": "code",
   "execution_count": 29,
   "outputs": [
    {
     "data": {
      "text/plain": "        Date  Rented Bike Count  Hour  Temperature  Humidity(%)  \\\n0 2017-12-01                254     0         -5.2           37   \n1 2017-12-01                204     1         -5.5           38   \n2 2017-12-01                173     2         -6.0           39   \n3 2017-12-01                107     3         -6.2           40   \n4 2017-12-01                 78     4         -6.0           36   \n\n   Wind speed (m/s)  Visibility (10m)  Solar Radiation (MJ/m2)  Rainfall(mm)  \\\n0               2.2              2000                      0.0           0.0   \n1               0.8              2000                      0.0           0.0   \n2               1.0              2000                      0.0           0.0   \n3               0.9              2000                      0.0           0.0   \n4               2.3              2000                      0.0           0.0   \n\n   Snowfall (cm) Seasons Functioning Day Day_night  month  \n0            0.0  Winter             Yes     Night     12  \n1            0.0  Winter             Yes     Night     12  \n2            0.0  Winter             Yes     Night     12  \n3            0.0  Winter             Yes     Night     12  \n4            0.0  Winter             Yes     Night     12  ",
      "text/html": "<div>\n<style scoped>\n    .dataframe tbody tr th:only-of-type {\n        vertical-align: middle;\n    }\n\n    .dataframe tbody tr th {\n        vertical-align: top;\n    }\n\n    .dataframe thead th {\n        text-align: right;\n    }\n</style>\n<table border=\"1\" class=\"dataframe\">\n  <thead>\n    <tr style=\"text-align: right;\">\n      <th></th>\n      <th>Date</th>\n      <th>Rented Bike Count</th>\n      <th>Hour</th>\n      <th>Temperature</th>\n      <th>Humidity(%)</th>\n      <th>Wind speed (m/s)</th>\n      <th>Visibility (10m)</th>\n      <th>Solar Radiation (MJ/m2)</th>\n      <th>Rainfall(mm)</th>\n      <th>Snowfall (cm)</th>\n      <th>Seasons</th>\n      <th>Functioning Day</th>\n      <th>Day_night</th>\n      <th>month</th>\n    </tr>\n  </thead>\n  <tbody>\n    <tr>\n      <th>0</th>\n      <td>2017-12-01</td>\n      <td>254</td>\n      <td>0</td>\n      <td>-5.2</td>\n      <td>37</td>\n      <td>2.2</td>\n      <td>2000</td>\n      <td>0.0</td>\n      <td>0.0</td>\n      <td>0.0</td>\n      <td>Winter</td>\n      <td>Yes</td>\n      <td>Night</td>\n      <td>12</td>\n    </tr>\n    <tr>\n      <th>1</th>\n      <td>2017-12-01</td>\n      <td>204</td>\n      <td>1</td>\n      <td>-5.5</td>\n      <td>38</td>\n      <td>0.8</td>\n      <td>2000</td>\n      <td>0.0</td>\n      <td>0.0</td>\n      <td>0.0</td>\n      <td>Winter</td>\n      <td>Yes</td>\n      <td>Night</td>\n      <td>12</td>\n    </tr>\n    <tr>\n      <th>2</th>\n      <td>2017-12-01</td>\n      <td>173</td>\n      <td>2</td>\n      <td>-6.0</td>\n      <td>39</td>\n      <td>1.0</td>\n      <td>2000</td>\n      <td>0.0</td>\n      <td>0.0</td>\n      <td>0.0</td>\n      <td>Winter</td>\n      <td>Yes</td>\n      <td>Night</td>\n      <td>12</td>\n    </tr>\n    <tr>\n      <th>3</th>\n      <td>2017-12-01</td>\n      <td>107</td>\n      <td>3</td>\n      <td>-6.2</td>\n      <td>40</td>\n      <td>0.9</td>\n      <td>2000</td>\n      <td>0.0</td>\n      <td>0.0</td>\n      <td>0.0</td>\n      <td>Winter</td>\n      <td>Yes</td>\n      <td>Night</td>\n      <td>12</td>\n    </tr>\n    <tr>\n      <th>4</th>\n      <td>2017-12-01</td>\n      <td>78</td>\n      <td>4</td>\n      <td>-6.0</td>\n      <td>36</td>\n      <td>2.3</td>\n      <td>2000</td>\n      <td>0.0</td>\n      <td>0.0</td>\n      <td>0.0</td>\n      <td>Winter</td>\n      <td>Yes</td>\n      <td>Night</td>\n      <td>12</td>\n    </tr>\n  </tbody>\n</table>\n</div>"
     },
     "execution_count": 29,
     "metadata": {},
     "output_type": "execute_result"
    }
   ],
   "source": [
    "df.head()"
   ],
   "metadata": {
    "collapsed": false,
    "pycharm": {
     "name": "#%%\n"
    }
   }
  },
  {
   "cell_type": "code",
   "execution_count": 16,
   "outputs": [
    {
     "name": "stdout",
     "output_type": "stream",
     "text": [
      "<class 'pandas.core.frame.DataFrame'>\n",
      "Int64Index: 8760 entries, 0 to 8759\n",
      "Data columns (total 14 columns):\n",
      " #   Column                   Non-Null Count  Dtype         \n",
      "---  ------                   --------------  -----         \n",
      " 0   Date                     8760 non-null   datetime64[ns]\n",
      " 1   Rented Bike Count        8760 non-null   int64         \n",
      " 2   Hour                     8760 non-null   int64         \n",
      " 3   Temperature              8760 non-null   float64       \n",
      " 4   Humidity(%)              8760 non-null   int64         \n",
      " 5   Wind speed (m/s)         8760 non-null   float64       \n",
      " 6   Visibility (10m)         8760 non-null   int64         \n",
      " 7   Solar Radiation (MJ/m2)  8760 non-null   float64       \n",
      " 8   Rainfall(mm)             8760 non-null   float64       \n",
      " 9   Snowfall (cm)            8760 non-null   float64       \n",
      " 10  Seasons                  8760 non-null   object        \n",
      " 11  Functioning Day          8760 non-null   object        \n",
      " 12  Day_night                8760 non-null   object        \n",
      " 13  month                    8760 non-null   int64         \n",
      "dtypes: datetime64[ns](1), float64(5), int64(5), object(3)\n",
      "memory usage: 1.0+ MB\n"
     ]
    }
   ],
   "source": [
    "m = [12,1,2,3,4,5,6,7,8,9,10,11]\n",
    "mapping = {month: i for i, month in enumerate(m)}\n",
    "key = df['month'].map(mapping)\n",
    "ndf = df.iloc[key.argsort()]\n",
    "ndf.info()"
   ],
   "metadata": {
    "collapsed": false,
    "pycharm": {
     "name": "#%%\n"
    }
   }
  },
  {
   "cell_type": "code",
   "execution_count": 25,
   "outputs": [
    {
     "data": {
      "text/plain": "<AxesSubplot:>"
     },
     "execution_count": 25,
     "metadata": {},
     "output_type": "execute_result"
    },
    {
     "data": {
      "text/plain": "<Figure size 432x288 with 1 Axes>",
      "image/png": "[encoded data removed]"
     },
     "metadata": {
      "needs_background": "light"
     },
     "output_type": "display_data"
    }
   ],
   "source": [
    "ndf = df.groupby('month')['Rented Bike Count'].sum().reset_index('month')\n",
    "m = [12,1,2,3,4,5,6,7,8,9,10,11]\n",
    "mapping = {month: i for i, month in enumerate(m)}\n",
    "key = ndf['month'].map(mapping)\n",
    "ndf.iloc[key.argsort()]\n",
    "ndf.plot()"
   ],
   "metadata": {
    "collapsed": false,
    "pycharm": {
     "name": "#%%\n"
    }
   }
  },
  {
   "cell_type": "code",
   "execution_count": 47,
   "outputs": [
    {
     "name": "stdout",
     "output_type": "stream",
     "text": [
      "<class 'pandas.core.frame.DataFrame'>\n",
      "Int64Index: 720 entries, 8040 to 8759\n",
      "Data columns (total 14 columns):\n",
      " #   Column                   Non-Null Count  Dtype         \n",
      "---  ------                   --------------  -----         \n",
      " 0   Date                     720 non-null    datetime64[ns]\n",
      " 1   Rented Bike Count        720 non-null    int64         \n",
      " 2   Hour                     720 non-null    int64         \n",
      " 3   Temperature              720 non-null    float64       \n",
      " 4   Humidity(%)              720 non-null    int64         \n",
      " 5   Wind speed (m/s)         720 non-null    float64       \n",
      " 6   Visibility (10m)         720 non-null    int64         \n",
      " 7   Solar Radiation (MJ/m2)  720 non-null    float64       \n",
      " 8   Rainfall(mm)             720 non-null    float64       \n",
      " 9   Snowfall (cm)            720 non-null    float64       \n",
      " 10  Seasons                  720 non-null    object        \n",
      " 11  Functioning Day          720 non-null    object        \n",
      " 12  Day_night                720 non-null    object        \n",
      " 13  month                    720 non-null    int64         \n",
      "dtypes: datetime64[ns](1), float64(5), int64(5), object(3)\n",
      "memory usage: 84.4+ KB\n"
     ]
    },
    {
     "data": {
      "text/plain": "         Date  Rented Bike Count\n0  2018-11-01              22964\n1  2018-11-02              24077\n2  2018-11-03                  0\n3  2018-11-04              20471\n4  2018-11-05              23472\n5  2018-11-06                  0\n6  2018-11-07              16525\n7  2018-11-08               1721\n8  2018-11-09                  0\n9  2018-11-10              18473\n10 2018-11-11              13138\n11 2018-11-12              21003\n12 2018-11-13              21992\n13 2018-11-14              22707\n14 2018-11-15              21502\n15 2018-11-16              20660\n16 2018-11-17              15689\n17 2018-11-18              14319\n18 2018-11-19              18956\n19 2018-11-20              19127\n20 2018-11-21              15732\n21 2018-11-22              16496\n22 2018-11-23              16314\n23 2018-11-24               6477\n24 2018-11-25              11212\n25 2018-11-26              17162\n26 2018-11-27              16282\n27 2018-11-28              16524\n28 2018-11-29              16423\n29 2018-11-30              16297",
      "text/html": "<div>\n<style scoped>\n    .dataframe tbody tr th:only-of-type {\n        vertical-align: middle;\n    }\n\n    .dataframe tbody tr th {\n        vertical-align: top;\n    }\n\n    .dataframe thead th {\n        text-align: right;\n    }\n</style>\n<table border=\"1\" class=\"dataframe\">\n  <thead>\n    <tr style=\"text-align: right;\">\n      <th></th>\n      <th>Date</th>\n      <th>Rented Bike Count</th>\n    </tr>\n  </thead>\n  <tbody>\n    <tr>\n      <th>0</th>\n      <td>2018-11-01</td>\n      <td>22964</td>\n    </tr>\n    <tr>\n      <th>1</th>\n      <td>2018-11-02</td>\n      <td>24077</td>\n    </tr>\n    <tr>\n      <th>2</th>\n      <td>2018-11-03</td>\n      <td>0</td>\n    </tr>\n    <tr>\n      <th>3</th>\n      <td>2018-11-04</td>\n      <td>20471</td>\n    </tr>\n    <tr>\n      <th>4</th>\n      <td>2018-11-05</td>\n      <td>23472</td>\n    </tr>\n    <tr>\n      <th>5</th>\n      <td>2018-11-06</td>\n      <td>0</td>\n    </tr>\n    <tr>\n      <th>6</th>\n      <td>2018-11-07</td>\n      <td>16525</td>\n    </tr>\n    <tr>\n      <th>7</th>\n      <td>2018-11-08</td>\n      <td>1721</td>\n    </tr>\n    <tr>\n      <th>8</th>\n      <td>2018-11-09</td>\n      <td>0</td>\n    </tr>\n    <tr>\n      <th>9</th>\n      <td>2018-11-10</td>\n      <td>18473</td>\n    </tr>\n    <tr>\n      <th>10</th>\n      <td>2018-11-11</td>\n      <td>13138</td>\n    </tr>\n    <tr>\n      <th>11</th>\n      <td>2018-11-12</td>\n      <td>21003</td>\n    </tr>\n    <tr>\n      <th>12</th>\n      <td>2018-11-13</td>\n      <td>21992</td>\n    </tr>\n    <tr>\n      <th>13</th>\n      <td>2018-11-14</td>\n      <td>22707</td>\n    </tr>\n    <tr>\n      <th>14</th>\n      <td>2018-11-15</td>\n      <td>21502</td>\n    </tr>\n    <tr>\n      <th>15</th>\n      <td>2018-11-16</td>\n      <td>20660</td>\n    </tr>\n    <tr>\n      <th>16</th>\n      <td>2018-11-17</td>\n      <td>15689</td>\n    </tr>\n    <tr>\n      <th>17</th>\n      <td>2018-11-18</td>\n      <td>14319</td>\n    </tr>\n    <tr>\n      <th>18</th>\n      <td>2018-11-19</td>\n      <td>18956</td>\n    </tr>\n    <tr>\n      <th>19</th>\n      <td>2018-11-20</td>\n      <td>19127</td>\n    </tr>\n    <tr>\n      <th>20</th>\n      <td>2018-11-21</td>\n      <td>15732</td>\n    </tr>\n    <tr>\n      <th>21</th>\n      <td>2018-11-22</td>\n      <td>16496</td>\n    </tr>\n    <tr>\n      <th>22</th>\n      <td>2018-11-23</td>\n      <td>16314</td>\n    </tr>\n    <tr>\n      <th>23</th>\n      <td>2018-11-24</td>\n      <td>6477</td>\n    </tr>\n    <tr>\n      <th>24</th>\n      <td>2018-11-25</td>\n      <td>11212</td>\n    </tr>\n    <tr>\n      <th>25</th>\n      <td>2018-11-26</td>\n      <td>17162</td>\n    </tr>\n    <tr>\n      <th>26</th>\n      <td>2018-11-27</td>\n      <td>16282</td>\n    </tr>\n    <tr>\n      <th>27</th>\n      <td>2018-11-28</td>\n      <td>16524</td>\n    </tr>\n    <tr>\n      <th>28</th>\n      <td>2018-11-29</td>\n      <td>16423</td>\n    </tr>\n    <tr>\n      <th>29</th>\n      <td>2018-11-30</td>\n      <td>16297</td>\n    </tr>\n  </tbody>\n</table>\n</div>"
     },
     "execution_count": 47,
     "metadata": {},
     "output_type": "execute_result"
    }
   ],
   "source": [
    "dff = df[df[\"month\"] == 11]\n",
    "dff.info()\n",
    "dff.groupby('Date')['Rented Bike Count'].sum().reset_index('Date')"
   ],
   "metadata": {
    "collapsed": false,
    "pycharm": {
     "name": "#%%\n"
    }
   }
  },
  {
   "cell_type": "code",
   "execution_count": 30,
   "metadata": {
    "pycharm": {
     "name": "#%%\n"
    }
   },
   "outputs": [
    {
     "name": "stdout",
     "output_type": "stream",
     "text": [
      "No. of columns =  14\n",
      "No. of rows =  8760\n",
      "(8760, 14)\n"
     ]
    }
   ],
   "source": [
    "# Print the number of rows and columns in the DataFrame\n",
    "print('No. of columns = ',len(df.columns))\n",
    "print('No. of rows = ',len(df))\n",
    "print(df.shape)"
   ]
  },
  {
   "cell_type": "code",
   "execution_count": 31,
   "metadata": {
    "pycharm": {
     "name": "#%%\n"
    }
   },
   "outputs": [
    {
     "name": "stdout",
     "output_type": "stream",
     "text": [
      "<class 'pandas.core.frame.DataFrame'>\n",
      "RangeIndex: 8760 entries, 0 to 8759\n",
      "Data columns (total 14 columns):\n",
      " #   Column                   Non-Null Count  Dtype         \n",
      "---  ------                   --------------  -----         \n",
      " 0   Date                     8760 non-null   datetime64[ns]\n",
      " 1   Rented Bike Count        8760 non-null   int64         \n",
      " 2   Hour                     8760 non-null   int64         \n",
      " 3   Temperature              8760 non-null   float64       \n",
      " 4   Humidity(%)              8760 non-null   int64         \n",
      " 5   Wind speed (m/s)         8760 non-null   float64       \n",
      " 6   Visibility (10m)         8760 non-null   int64         \n",
      " 7   Solar Radiation (MJ/m2)  8760 non-null   float64       \n",
      " 8   Rainfall(mm)             8760 non-null   float64       \n",
      " 9   Snowfall (cm)            8760 non-null   float64       \n",
      " 10  Seasons                  8760 non-null   object        \n",
      " 11  Functioning Day          8760 non-null   object        \n",
      " 12  Day_night                8760 non-null   object        \n",
      " 13  month                    8760 non-null   int64         \n",
      "dtypes: datetime64[ns](1), float64(5), int64(5), object(3)\n",
      "memory usage: 958.2+ KB\n"
     ]
    }
   ],
   "source": [
    "df.info()"
   ]
  },
  {
   "cell_type": "markdown",
   "metadata": {},
   "source": [
    "#### Check for null values"
   ]
  },
  {
   "cell_type": "code",
   "execution_count": 32,
   "metadata": {
    "pycharm": {
     "name": "#%%\n"
    }
   },
   "outputs": [
    {
     "data": {
      "text/plain": "2017-12-01    24\n2018-08-09    24\n2018-08-07    24\n2018-08-06    24\n2018-08-05    24\n              ..\n2018-03-31    24\n2018-03-30    24\n2018-03-29    24\n2018-03-28    24\n2018-11-30    24\nName: Date, Length: 365, dtype: int64"
     },
     "execution_count": 32,
     "metadata": {},
     "output_type": "execute_result"
    }
   ],
   "source": [
    "# Actual unique dates in dataframe:\n",
    "df['Date'].value_counts()"
   ]
  },
  {
   "cell_type": "code",
   "execution_count": 31,
   "metadata": {
    "pycharm": {
     "name": "#%%\n"
    }
   },
   "outputs": [],
   "source": [
    "import pandas as pd\n",
    "import matplotlib.pyplot as plt\n",
    "import numpy as np"
   ]
  },
  {
   "cell_type": "markdown",
   "metadata": {},
   "source": [
    "#### Check Basic stats"
   ]
  },
  {
   "cell_type": "code",
   "execution_count": 35,
   "metadata": {
    "pycharm": {
     "name": "#%%\n"
    }
   },
   "outputs": [
    {
     "data": {
      "text/plain": "month\n1     150006\n2     151833\n3     380594\n4     524227\n5     707088\n6     896887\n7     734460\n8     651887\n9     673612\n10    650675\n11    465715\n12    185330\nName: Rented Bike Count, dtype: int64"
     },
     "execution_count": 35,
     "metadata": {},
     "output_type": "execute_result"
    }
   ],
   "source": [
    "df.groupby('month')['Rented Bike Count'].sum()"
   ]
  },
  {
   "cell_type": "markdown",
   "metadata": {},
   "source": [
    "#### Daily rents throughout the year"
   ]
  },
  {
   "cell_type": "code",
   "execution_count": 33,
   "metadata": {
    "pycharm": {
     "name": "#%%\n"
    }
   },
   "outputs": [
    {
     "data": {
      "text/plain": "Date\n2017-01-12     9539\n2017-02-12     8523\n2017-03-12     7222\n2017-04-12     8729\n2017-05-12     8307\n              ...  \n2018-12-07    29428\n2018-12-08    17498\n2018-12-09    31809\n2018-12-10    26237\n2018-12-11    21003\nName: Rented Bike Count, Length: 365, dtype: int64"
     },
     "execution_count": 33,
     "metadata": {},
     "output_type": "execute_result"
    }
   ],
   "source": [
    "df.groupby('Date')['Rented Bike Count'].sum()"
   ]
  },
  {
   "cell_type": "markdown",
   "metadata": {},
   "source": [
    " From the plot, we can roughly see that the highest\n",
    " amount of rents was between June 2018 and July 2018. We\n",
    " want to explore it further to see the linkage of\n",
    " rents with the season."
   ]
  },
  {
   "cell_type": "markdown",
   "metadata": {},
   "source": [
    "#### Exploring the relationship between total rented bike count and seasons\n",
    "Sum the 'Rented Bike Count' by 'Seasons' and plot the bar\n",
    "chart in ascending order."
   ]
  },
  {
   "cell_type": "code",
   "execution_count": 18,
   "metadata": {
    "pycharm": {
     "name": "#%%\n"
    }
   },
   "outputs": [
    {
     "data": {
      "text/plain": "  Seasons  Total Amount\n0  Autumn       1790002\n1  Spring       1611909\n2  Summer       2283234\n3  Winter        487169",
      "text/html": "<div>\n<style scoped>\n    .dataframe tbody tr th:only-of-type {\n        vertical-align: middle;\n    }\n\n    .dataframe tbody tr th {\n        vertical-align: top;\n    }\n\n    .dataframe thead th {\n        text-align: right;\n    }\n</style>\n<table border=\"1\" class=\"dataframe\">\n  <thead>\n    <tr style=\"text-align: right;\">\n      <th></th>\n      <th>Seasons</th>\n      <th>Total Amount</th>\n    </tr>\n  </thead>\n  <tbody>\n    <tr>\n      <th>0</th>\n      <td>Autumn</td>\n      <td>1790002</td>\n    </tr>\n    <tr>\n      <th>1</th>\n      <td>Spring</td>\n      <td>1611909</td>\n    </tr>\n    <tr>\n      <th>2</th>\n      <td>Summer</td>\n      <td>2283234</td>\n    </tr>\n    <tr>\n      <th>3</th>\n      <td>Winter</td>\n      <td>487169</td>\n    </tr>\n  </tbody>\n</table>\n</div>"
     },
     "execution_count": 18,
     "metadata": {},
     "output_type": "execute_result"
    }
   ],
   "source": [
    "\n",
    "seasons = df.groupby('Seasons')['Rented Bike Count'].sum().reset_index(name ='Total Amount')\n",
    "seasons.head()"
   ]
  },
  {
   "cell_type": "code",
   "execution_count": null,
   "outputs": [],
   "source": [],
   "metadata": {
    "collapsed": false,
    "pycharm": {
     "name": "#%%\n"
    }
   }
  },
  {
   "cell_type": "markdown",
   "metadata": {},
   "source": [
    "The result was the same as that would be expected,\n",
    "that summer was\n",
    " the\n",
    "season with the highest rent count while winter had the\n",
    "lowest amount."
   ]
  },
  {
   "cell_type": "markdown",
   "metadata": {},
   "source": [
    "#### Splitting Summer data"
   ]
  },
  {
   "cell_type": "code",
   "execution_count": 78,
   "metadata": {
    "pycharm": {
     "name": "#%%\n"
    }
   },
   "outputs": [
    {
     "data": {
      "text/plain": "         Date  Rented Bike Count  Hour  Temperature  Humidity(%)  \\\n0  2018-01-06                963     0         20.1           63   \n\n   Wind speed (m/s)  Visibility (10m)  Solar Radiation (MJ/m2)  Rainfall(mm)  \\\n0               1.1              1698                      0.0           0.0   \n\n   Snowfall (cm) Seasons Functioning Day  \n0            0.0  Summer             Yes  ",
      "text/html": "<div>\n<style scoped>\n    .dataframe tbody tr th:only-of-type {\n        vertical-align: middle;\n    }\n\n    .dataframe tbody tr th {\n        vertical-align: top;\n    }\n\n    .dataframe thead th {\n        text-align: right;\n    }\n</style>\n<table border=\"1\" class=\"dataframe\">\n  <thead>\n    <tr style=\"text-align: right;\">\n      <th></th>\n      <th>Date</th>\n      <th>Rented Bike Count</th>\n      <th>Hour</th>\n      <th>Temperature</th>\n      <th>Humidity(%)</th>\n      <th>Wind speed (m/s)</th>\n      <th>Visibility (10m)</th>\n      <th>Solar Radiation (MJ/m2)</th>\n      <th>Rainfall(mm)</th>\n      <th>Snowfall (cm)</th>\n      <th>Seasons</th>\n      <th>Functioning Day</th>\n    </tr>\n  </thead>\n  <tbody>\n    <tr>\n      <th>0</th>\n      <td>2018-01-06</td>\n      <td>963</td>\n      <td>0</td>\n      <td>20.1</td>\n      <td>63</td>\n      <td>1.1</td>\n      <td>1698</td>\n      <td>0.0</td>\n      <td>0.0</td>\n      <td>0.0</td>\n      <td>Summer</td>\n      <td>Yes</td>\n    </tr>\n  </tbody>\n</table>\n</div>"
     },
     "execution_count": 78,
     "metadata": {},
     "output_type": "execute_result"
    }
   ],
   "source": [
    "df_summer = df.loc[df['Seasons'] == 'Summer']\n",
    "df_summer.reset_index(drop=True, inplace=True)\n",
    "df_summer.head(1)"
   ]
  },
  {
   "cell_type": "code",
   "execution_count": 79,
   "metadata": {
    "pycharm": {
     "name": "#%%\n"
    }
   },
   "outputs": [
    {
     "data": {
      "text/plain": "            Date  Rented Bike Count  Hour  Temperature  Humidity(%)  \\\n2207  2018-08-31               1329    23         23.8           81   \n\n      Wind speed (m/s)  Visibility (10m)  Solar Radiation (MJ/m2)  \\\n2207               0.6              1893                      0.0   \n\n      Rainfall(mm)  Snowfall (cm) Seasons Functioning Day  \n2207           0.0            0.0  Summer             Yes  ",
      "text/html": "<div>\n<style scoped>\n    .dataframe tbody tr th:only-of-type {\n        vertical-align: middle;\n    }\n\n    .dataframe tbody tr th {\n        vertical-align: top;\n    }\n\n    .dataframe thead th {\n        text-align: right;\n    }\n</style>\n<table border=\"1\" class=\"dataframe\">\n  <thead>\n    <tr style=\"text-align: right;\">\n      <th></th>\n      <th>Date</th>\n      <th>Rented Bike Count</th>\n      <th>Hour</th>\n      <th>Temperature</th>\n      <th>Humidity(%)</th>\n      <th>Wind speed (m/s)</th>\n      <th>Visibility (10m)</th>\n      <th>Solar Radiation (MJ/m2)</th>\n      <th>Rainfall(mm)</th>\n      <th>Snowfall (cm)</th>\n      <th>Seasons</th>\n      <th>Functioning Day</th>\n    </tr>\n  </thead>\n  <tbody>\n    <tr>\n      <th>2207</th>\n      <td>2018-08-31</td>\n      <td>1329</td>\n      <td>23</td>\n      <td>23.8</td>\n      <td>81</td>\n      <td>0.6</td>\n      <td>1893</td>\n      <td>0.0</td>\n      <td>0.0</td>\n      <td>0.0</td>\n      <td>Summer</td>\n      <td>Yes</td>\n    </tr>\n  </tbody>\n</table>\n</div>"
     },
     "execution_count": 79,
     "metadata": {},
     "output_type": "execute_result"
    }
   ],
   "source": [
    "df_summer.tail(1)"
   ]
  },
  {
   "cell_type": "markdown",
   "metadata": {},
   "source": [
    "From the head and tail of the summer dataframe, the\n",
    "summer was from 2018-01-06 to 2018-08-31. The result was\n",
    "also consistent with the 'Daily_total_rents.jpg' where\n",
    " the\n",
    "highest amount happened."
   ]
  },
  {
   "cell_type": "markdown",
   "metadata": {},
   "source": [
    "#### Exploring average bike count rented per hour"
   ]
  },
  {
   "cell_type": "code",
   "execution_count": 22,
   "outputs": [
    {
     "data": {
      "text/plain": "   Hour  Total Amount\n0     0        197633\n1     1        155557\n2     2        110095\n3     3         74216\n4     4         48396",
      "text/html": "<div>\n<style scoped>\n    .dataframe tbody tr th:only-of-type {\n        vertical-align: middle;\n    }\n\n    .dataframe tbody tr th {\n        vertical-align: top;\n    }\n\n    .dataframe thead th {\n        text-align: right;\n    }\n</style>\n<table border=\"1\" class=\"dataframe\">\n  <thead>\n    <tr style=\"text-align: right;\">\n      <th></th>\n      <th>Hour</th>\n      <th>Total Amount</th>\n    </tr>\n  </thead>\n  <tbody>\n    <tr>\n      <th>0</th>\n      <td>0</td>\n      <td>197633</td>\n    </tr>\n    <tr>\n      <th>1</th>\n      <td>1</td>\n      <td>155557</td>\n    </tr>\n    <tr>\n      <th>2</th>\n      <td>2</td>\n      <td>110095</td>\n    </tr>\n    <tr>\n      <th>3</th>\n      <td>3</td>\n      <td>74216</td>\n    </tr>\n    <tr>\n      <th>4</th>\n      <td>4</td>\n      <td>48396</td>\n    </tr>\n  </tbody>\n</table>\n</div>"
     },
     "execution_count": 22,
     "metadata": {},
     "output_type": "execute_result"
    }
   ],
   "source": [
    "\n",
    "hour=df.groupby('Hour').sum()['Rented Bike Count'].reset_index(name ='Total Amount')\n",
    "hour.head()\n",
    "#df.groupby('Hour').sum()['Rented Bike Count'].plot.bar(color='pink')"
   ],
   "metadata": {
    "collapsed": false,
    "pycharm": {
     "name": "#%%\n"
    }
   }
  },
  {
   "cell_type": "code",
   "execution_count": null,
   "outputs": [],
   "source": [],
   "metadata": {
    "collapsed": false,
    "pycharm": {
     "name": "#%%\n"
    }
   }
  },
  {
   "cell_type": "markdown",
   "metadata": {},
   "source": [
    "#### Split daytime and night-time\n",
    "To define whether the hour is daytime or night , we assumed\n",
    "6:00 - 19:00 as daytime, and created a function to\n",
    "determine the category."
   ]
  },
  {
   "cell_type": "code",
   "execution_count": null,
   "metadata": {
    "pycharm": {
     "name": "#%%\n"
    }
   },
   "outputs": [],
   "source": [
    "# Function to define the Day and Night\n",
    "def day_or_night(rows):\n",
    "    \"\"\"Takes in a number rows, returns category of n\"\"\"\n",
    "    if rows['Hour'] >19 or rows['Hour']<6:\n",
    "        val = 'Night'\n",
    "    else:\n",
    "        val = 'Day'\n",
    "    return val\n",
    "# Creat a new column in the dataframe\n",
    "df['Day_night'] = df.apply(day_or_night, axis=1)\n",
    "#Plot\n",
    "day_night = df.groupby('Day_night').sum()['Rented Bike Count'].plot.pie()\n",
    "day_night.figure.savefig('Plots/Day_night_total_rents.jpg')"
   ]
  },
  {
   "cell_type": "code",
   "execution_count": null,
   "outputs": [],
   "source": [
    "df.head()\n"
   ],
   "metadata": {
    "collapsed": false,
    "pycharm": {
     "name": "#%%\n"
    }
   }
  },
  {
   "cell_type": "markdown",
   "metadata": {},
   "source": [
    "#### Exploring relationship between rented bike count and temperature"
   ]
  },
  {
   "cell_type": "code",
   "execution_count": null,
   "metadata": {
    "pycharm": {
     "name": "#%%\n"
    }
   },
   "outputs": [],
   "source": [
    "temp_rent = df.groupby('Temperature').mean()['Rented Bike Count'].plot(figsize=(40,10),color=\"lightpink\")\n",
    "\n",
    "temp_rent.figure.savefig('Plots/Temp_average.jpg')"
   ]
  },
  {
   "cell_type": "markdown",
   "metadata": {},
   "source": [
    "#### Exploring relationship between rented bike count and\n",
    "#### snowfall"
   ]
  },
  {
   "cell_type": "code",
   "execution_count": null,
   "metadata": {
    "pycharm": {
     "name": "#%%\n"
    }
   },
   "outputs": [],
   "source": [
    "snow_rent = df.groupby('Snowfall (cm)').mean()['Rented Bike Count'].plot()\n",
    "snow_rent.figure.savefig('Plots/Snow_average.jpg')"
   ]
  },
  {
   "cell_type": "code",
   "execution_count": null,
   "outputs": [],
   "source": [
    "\n",
    "df.groupby('Rainfall(mm)').mean()['Rented Bike Count'].plot()\n"
   ],
   "metadata": {
    "collapsed": false,
    "pycharm": {
     "name": "#%%\n"
    }
   }
  },
  {
   "cell_type": "markdown",
   "metadata": {},
   "source": [
    "#### Identify outliers"
   ]
  },
  {
   "cell_type": "code",
   "execution_count": null,
   "metadata": {
    "pycharm": {
     "name": "#%%\n"
    }
   },
   "outputs": [],
   "source": [
    "bp = df.plot.box(subplots=True)\n",
    "plt.show()"
   ]
  },
  {
   "cell_type": "markdown",
   "metadata": {},
   "source": [
    "We shall investigate the outlier in Rented bike box plot"
   ]
  },
  {
   "cell_type": "code",
   "execution_count": null,
   "metadata": {
    "pycharm": {
     "name": "#%%\n"
    }
   },
   "outputs": [],
   "source": [
    "outlier_bike = df[df['Rented Bike Count']>2400]\n",
    "outlier_bike['Hour'].unique()"
   ]
  },
  {
   "cell_type": "code",
   "execution_count": null,
   "outputs": [],
   "source": [],
   "metadata": {
    "collapsed": false,
    "pycharm": {
     "name": "#%%\n"
    }
   }
  },
  {
   "cell_type": "markdown",
   "metadata": {},
   "source": [
    "We can see the outliers in the bike count were due to the\n",
    "high demand for bikes in rush hours and consistent with\n",
    "the Hour_average.jpg plot, we decided not to remove those\n",
    " data.\n"
   ]
  },
  {
   "cell_type": "markdown",
   "metadata": {},
   "source": []
  }
 ],
 "metadata": {
  "kernelspec": {
   "display_name": "Python 3 (ipykernel)",
   "language": "python",
   "name": "python3"
  },
  "language_info": {
   "codemirror_mode": {
    "name": "ipython",
    "version": 3
   },
   "file_extension": ".py",
   "mimetype": "text/x-python",
   "name": "python",
   "nbconvert_exporter": "python",
   "pygments_lexer": "ipython3",
   "version": "3.9.1"
  }
 },
 "nbformat": 4,
 "nbformat_minor": 1
}